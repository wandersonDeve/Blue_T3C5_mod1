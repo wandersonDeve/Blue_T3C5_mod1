{
  "nbformat": 4,
  "nbformat_minor": 0,
  "metadata": {
    "colab": {
      "name": "Untitled0.ipynb",
      "provenance": [],
      "authorship_tag": "ABX9TyM38uu6iRgkKrMyS2IuCEiI",
      "include_colab_link": true
    },
    "kernelspec": {
      "name": "python3",
      "display_name": "Python 3"
    },
    "language_info": {
      "name": "python"
    }
  },
  "cells": [
    {
      "cell_type": "markdown",
      "metadata": {
        "id": "view-in-github",
        "colab_type": "text"
      },
      "source": [
        "<a href=\"https://colab.research.google.com/github/wandersonDeve/Blue_T3C5_mod1/blob/main/Aula03.ipynb\" target=\"_parent\"><img src=\"https://colab.research.google.com/assets/colab-badge.svg\" alt=\"Open In Colab\"/></a>"
      ]
    },
    {
      "cell_type": "code",
      "metadata": {
        "colab": {
          "base_uri": "https://localhost:8080/"
        },
        "id": "hQFzY5Hd0L_u",
        "outputId": "724202ce-35a2-4bfa-f227-af1c11e6b3ad"
      },
      "source": [
        "var = 'Batma que ri do quadrinho'\n",
        "# print(len(var1))\n",
        "# print(var.capitalize()) # --> Coloca a primeira string em Maiusculo\n",
        "# print(var.title()) # --> Retorna todas as primeiras letras em Maiusculo\n",
        "# print(var.count('a')) # --> Quantas vezes um caractere aparece em uma string\n",
        "# print(var.startswith('b')) # --> Retorna Verdadeiro ou Falso no inicio da string\n",
        "print(var.strip())  # --> Retira os espaços no inicio e no final da string\n",
        "print(var.lstrip()) # --> Retira os espaços da esquerda no inicio da string\n",
        "print(var.rstrip()) # --> Retira os espaços da direita no final da string\n",
        "\n",
        "\n"
      ],
      "execution_count": 68,
      "outputs": [
        {
          "output_type": "stream",
          "text": [
            "Batma que ri do quadrinho\n",
            "Batma que ri do quadrinho\n",
            "Batma que ri do quadrinho\n",
            "['Batma', 'que', 'ri', 'do', 'quadrinho']\n"
          ],
          "name": "stdout"
        }
      ]
    },
    {
      "cell_type": "code",
      "metadata": {
        "id": "Nfnc2CeuMFUc"
      },
      "source": [
        "while True:\n",
        "  ctrl = str(input('Sexo: [M,F]' ).upper().strip())\n",
        "  if ctrl in 'MF':\n",
        "    break\n",
        "  else:\n",
        "    print('Comando Invalido')\n",
        "print('Fim do programa')"
      ],
      "execution_count": null,
      "outputs": []
    },
    {
      "cell_type": "code",
      "metadata": {
        "id": "LxlfMtM3Q7v3"
      },
      "source": [
        "while True:\n",
        "  num = input('Digite um numero: ').strip()\n",
        "  if num.isnumeric():\n",
        "    print(num)\n",
        "    break\n",
        "  else:\n",
        "    print('Erro')"
      ],
      "execution_count": null,
      "outputs": []
    }
  ]
}
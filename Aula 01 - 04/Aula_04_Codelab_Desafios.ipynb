{
  "nbformat": 4,
  "nbformat_minor": 0,
  "metadata": {
    "colab": {
      "name": "Aula_04_Codelab - Desafios.ipynb",
      "provenance": [],
      "include_colab_link": true
    },
    "kernelspec": {
      "name": "python3",
      "display_name": "Python 3"
    },
    "language_info": {
      "name": "python"
    }
  },
  "cells": [
    {
      "cell_type": "markdown",
      "metadata": {
        "id": "view-in-github",
        "colab_type": "text"
      },
      "source": [
        "<a href=\"https://colab.research.google.com/github/wandersonDeve/Blue_T3C5_mod1/blob/main/Aula_04_Codelab_Desafios.ipynb\" target=\"_parent\"><img src=\"https://colab.research.google.com/assets/colab-badge.svg\" alt=\"Open In Colab\"/></a>"
      ]
    },
    {
      "cell_type": "markdown",
      "metadata": {
        "id": "NRhLAMa6ZfqU"
      },
      "source": [
        "## **DESAFIO 01**\n",
        "\n",
        "**Reajuste salarial**\n",
        "\n",
        "As empresas @.com resolveram dar um aumento de salário aos seus colaboradores e lhe contrataram para desenvolver o programa que calculará os reajustes.\n",
        "\n",
        "Faça um programa que recebe o salário de um colaborador e o reajuste segundo o seguinte critério, baseado no salário atual:\n",
        "* salários até R$ 280,00 (incluindo) : aumento de 20%\n",
        "\n",
        "* salários entre R\\$ 280,00 e R$ 700,00 : aumento de 15%\n",
        "\n",
        "* salários entre R\\$ 700,00 e R$ 1500,00 : aumento de 10%\n",
        "\n",
        "* salários de R$ 1500,00 em diante : aumento de 5% \n",
        "\n",
        "Após o aumento ser realizado, informe na tela:\n",
        "* o salário antes do reajuste;\n",
        "\n",
        "* o percentual de aumento aplicado;\n",
        "\n",
        "* o valor do aumento;\n",
        "\n",
        "* o novo salário, após o aumento.\""
      ]
    },
    {
      "cell_type": "code",
      "metadata": {
        "id": "VpC5oZINZXzt"
      },
      "source": [
        "salario = float(input('Digite o salario: ').strip().replace(',','.'))\n",
        "if salario <= 280:\n",
        "  print('Ganhou aumento de 20%')\n",
        "  print(f'Agora o salario que era de R${salario:.2f} passou a ser R${salario*1.20:.2f}')\n",
        "  print(f'O aumento foi de R${salario*0.20:.2f}')\n",
        "elif 280 < salario <= 700:\n",
        "  print('Ganhou aumento de 15%')\n",
        "  print(f'Agora o salario que era de R${salario:.2f} passou a ser R${salario*1.15:.2f}')\n",
        "  print(f'O aumento foi de R${salario*0.15:.2f}')\n",
        "elif 700 < salario <= 1500:\n",
        "  print('Ganhou aumento de 10%')\n",
        "  print(f'Agora o salario que era de R${salario:.2f} passou a ser R${salario*1.1:.2f}')\n",
        "  print(f'O aumento foi de R${salario*0.1:.2f}')\n",
        "elif 1500 < salario:\n",
        "  print('Ganhou aumento de 5%')\n",
        "  print(f'Agora o salario que era de R${salario:.2f} passou a ser R${salario*1.05:.2f}')\n",
        "  print(f'O aumento foi de R${salario*0.05:.2f}')"
      ],
      "execution_count": null,
      "outputs": []
    },
    {
      "cell_type": "markdown",
      "metadata": {
        "id": "HvThpbU4aBGy"
      },
      "source": [
        "## **DESAFIO 02**\n",
        "\n",
        "**Jogo da adivinhação**\n",
        "\n",
        "Escreva um programa que faça o computador “pensar” em um número inteiro entre 0 e 10 e peça para o usuário tentar descobrir qual foi o número escolhido pelo computador. O programa deverá escrever na tela se o usuário venceu ou perdeu."
      ]
    },
    {
      "cell_type": "code",
      "metadata": {
        "id": "ufD4OzxkaN1X"
      },
      "source": [
        "from random import randint\n",
        "\n",
        "pc = randint(0,11)\n",
        "user = int(input('Pensei em um numero de 0 a 10, tente adivinhar qual? -> '))\n",
        "if pc == user:\n",
        "  print(f'Você ganhou realmente eu escolhi {pc}')\n",
        "else:\n",
        "  print(f'Você perdeu eu escolhi {pc} e você {user}')"
      ],
      "execution_count": null,
      "outputs": []
    }
  ]
}
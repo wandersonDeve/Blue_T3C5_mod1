{
  "nbformat": 4,
  "nbformat_minor": 0,
  "metadata": {
    "colab": {
      "name": "exercicio_fatiamento_de_str.ipynb",
      "provenance": [],
      "authorship_tag": "ABX9TyMnTk0xPPED8Q2Wk+rcDdV5",
      "include_colab_link": true
    },
    "kernelspec": {
      "name": "python3",
      "display_name": "Python 3"
    },
    "language_info": {
      "name": "python"
    }
  },
  "cells": [
    {
      "cell_type": "markdown",
      "metadata": {
        "id": "view-in-github",
        "colab_type": "text"
      },
      "source": [
        "<a href=\"https://colab.research.google.com/github/wandersonDeve/Blue_T3C5_mod1/blob/main/exercicio_fatiamento_de_str.ipynb\" target=\"_parent\"><img src=\"https://colab.research.google.com/assets/colab-badge.svg\" alt=\"Open In Colab\"/></a>"
      ]
    },
    {
      "cell_type": "markdown",
      "metadata": {
        "id": "lG3SywcSSapo"
      },
      "source": [
        "## **01 - Considere a string A = \"Os limites só existem se você os deixar existir.(goku)\".** ##\n",
        "\n",
        "## **Que fatia corresponde a (goku)?** ##\n"
      ]
    },
    {
      "cell_type": "code",
      "metadata": {
        "colab": {
          "base_uri": "https://localhost:8080/"
        },
        "id": "eKeztpwlSi-1",
        "outputId": "c80cbca3-2ed6-4898-dc0c-b550956d65b0"
      },
      "source": [
        "a = 'Os limites só existem se você os deixar existir.(goku)'\n",
        "print(a[-6:len(a)])"
      ],
      "execution_count": 17,
      "outputs": [
        {
          "output_type": "stream",
          "text": [
            "(goku)\n"
          ],
          "name": "stdout"
        }
      ]
    },
    {
      "cell_type": "markdown",
      "metadata": {
        "id": "l6JkC7TwVNhi"
      },
      "source": [
        ""
      ]
    }
  ]
}
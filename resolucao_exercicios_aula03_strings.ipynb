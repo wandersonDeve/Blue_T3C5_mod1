{
  "nbformat": 4,
  "nbformat_minor": 0,
  "metadata": {
    "colab": {
      "name": "resolucao_exercicios_aula03_strings.ipynb",
      "provenance": [],
      "authorship_tag": "ABX9TyNtv08WNvyiiBWO3fc2MOsn",
      "include_colab_link": true
    },
    "kernelspec": {
      "name": "python3",
      "display_name": "Python 3"
    },
    "language_info": {
      "name": "python"
    }
  },
  "cells": [
    {
      "cell_type": "markdown",
      "metadata": {
        "id": "view-in-github",
        "colab_type": "text"
      },
      "source": [
        "<a href=\"https://colab.research.google.com/github/wandersonDeve/Blue_T3C5_mod1/blob/main/resolucao_exercicios_aula03_strings.ipynb\" target=\"_parent\"><img src=\"https://colab.research.google.com/assets/colab-badge.svg\" alt=\"Open In Colab\"/></a>"
      ]
    },
    {
      "cell_type": "markdown",
      "metadata": {
        "id": "R88LIdVNAcx2"
      },
      "source": [
        "## **01 – Escreva um programa que deve receber o nome completo do usuário e retornar uma saudação com o nome no formato adequado (todas as primeiras letras em maiúsculas).** ##"
      ]
    },
    {
      "cell_type": "code",
      "metadata": {
        "colab": {
          "base_uri": "https://localhost:8080/"
        },
        "id": "r8qbcwSnAfXh",
        "outputId": "877fcfde-5719-486a-dc4b-3b48e0f4413f"
      },
      "source": [
        "nome = input('Qual o seu nome: ').title().strip()\n",
        "print(f'Bem-vindo(a) {nome}!')"
      ],
      "execution_count": 5,
      "outputs": [
        {
          "output_type": "stream",
          "text": [
            "Qual o seu nome: d\n",
            "Bem-vindo(a) D!\n"
          ],
          "name": "stdout"
        }
      ]
    },
    {
      "cell_type": "markdown",
      "metadata": {
        "id": "1dsgtz2QBU6A"
      },
      "source": [
        "## **02 - Escreva um programa que solicite uma frase ao usuário e escreva a frase toda em maiúscula e sem espaços em branco.**##"
      ]
    },
    {
      "cell_type": "code",
      "metadata": {
        "colab": {
          "base_uri": "https://localhost:8080/"
        },
        "id": "ZlBP5GdDBdtH",
        "outputId": "9f31bb06-b6a0-49f2-cb37-ab5cb303afb1"
      },
      "source": [
        "frase = input('Digite uma frase: ').strip().upper()\n",
        "print(frase.replace(' ',''))"
      ],
      "execution_count": 11,
      "outputs": [
        {
          "output_type": "stream",
          "text": [
            "Digite uma frase: d\n",
            "D\n"
          ],
          "name": "stdout"
        }
      ]
    },
    {
      "cell_type": "markdown",
      "metadata": {
        "id": "jaOARP22BX8k"
      },
      "source": [
        "## **03 – Faça um programa que solicite a altura e o peso do usuário, e calcule o seu IMC. Os dados entrados precisam ser corrigidos pelo programa (trocando “,” por “.” e eliminando espaços e letras extras).** ##"
      ]
    },
    {
      "cell_type": "code",
      "metadata": {
        "colab": {
          "base_uri": "https://localhost:8080/"
        },
        "id": "Kvon4-H_BXhL",
        "outputId": "9f772d6c-89c8-48bb-ada1-5bc9eadcef5e"
      },
      "source": [
        "altura = float(input('Digite sua altura em M: ').strip().replace(',','.'))\n",
        "peso = float(input('Digite seu peso em kg: ' ).strip().replace(',','.'))\n",
        "imc = peso/(altura**2)\n",
        "print(f'Seu IMC é de {imc:.2f}')"
      ],
      "execution_count": 13,
      "outputs": [
        {
          "output_type": "stream",
          "text": [
            "Digite sua altura em M: 1,81\n",
            "Digite seu peso em kg: 110\n",
            "Seu IMC é de 33.58\n"
          ],
          "name": "stdout"
        }
      ]
    }
  ]
}
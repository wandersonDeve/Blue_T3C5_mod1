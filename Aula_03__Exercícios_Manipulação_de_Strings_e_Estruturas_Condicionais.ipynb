{
  "nbformat": 4,
  "nbformat_minor": 0,
  "metadata": {
    "colab": {
      "name": "Aula_03_- Exercícios - Manipulação_de_Strings_e_Estruturas_Condicionais.ipynb",
      "provenance": [],
      "collapsed_sections": [
        "D6lcbtHDhLKP",
        "EGWXGUI8_x-j",
        "khy9z-jP_qV_",
        "B7Evl6bhFffw",
        "YJ7H6HDafMBV",
        "2OkrVmqfojib",
        "C38oYzWPomu0",
        "ZOZJdv18pfqF",
        "VxzjrYIdrMZE",
        "r1g-QkQhsojP",
        "4YbMlSEZG7UM",
        "zUGk1OiNHDik"
      ],
      "include_colab_link": true
    },
    "kernelspec": {
      "name": "python3",
      "display_name": "Python 3"
    },
    "language_info": {
      "name": "python"
    }
  },
  "cells": [
    {
      "cell_type": "markdown",
      "metadata": {
        "id": "view-in-github",
        "colab_type": "text"
      },
      "source": [
        "<a href=\"https://colab.research.google.com/github/wandersonDeve/Blue_T3C5_mod1/blob/main/Aula_03__Exerc%C3%ADcios_Manipula%C3%A7%C3%A3o_de_Strings_e_Estruturas_Condicionais.ipynb\" target=\"_parent\"><img src=\"https://colab.research.google.com/assets/colab-badge.svg\" alt=\"Open In Colab\"/></a>"
      ]
    },
    {
      "cell_type": "markdown",
      "metadata": {
        "id": "D6lcbtHDhLKP"
      },
      "source": [
        "# **Manipulação de Strings**"
      ]
    },
    {
      "cell_type": "code",
      "metadata": {
        "id": "BA70o_L5hiYw"
      },
      "source": [
        "# Uma string é uma sequência de caracteres simples. Na linguagem Python, \n",
        "# as strings são utilizadas com aspas simples ('...') ou aspas duplas (\"...\").\n",
        "\n",
        "# Concatenação de Strings:\n",
        "\n",
        "titulo = 'Programação '\n",
        "linguagem = 'Python'\n",
        "titulo_linguagem = titulo + linguagem # Concatenação das Strings (str)\n",
        "\n",
        "print(titulo_linguagem)"
      ],
      "execution_count": null,
      "outputs": []
    },
    {
      "cell_type": "markdown",
      "metadata": {
        "id": "EGWXGUI8_x-j"
      },
      "source": [
        "## **Métodos de manipulação**"
      ]
    },
    {
      "cell_type": "code",
      "metadata": {
        "id": "rdBA5QlYzG8I"
      },
      "source": [
        "# Método len()\n",
        "\n",
        "#Retorna o tamanho da string\n",
        "\n",
        "titulo = 'Programação Python'\n",
        "\n",
        "print(f'O tamanho da String titulo é: {len(titulo)}')"
      ],
      "execution_count": null,
      "outputs": []
    },
    {
      "cell_type": "code",
      "metadata": {
        "id": "qf4AzhOy0T5y"
      },
      "source": [
        "# Método capitalize()\n",
        "\n",
        "# Retorna a string com a primeira letra maiúscula\n",
        "\n",
        "titulo = 'python'\n",
        "\n",
        "print(titulo.capitalize())"
      ],
      "execution_count": null,
      "outputs": []
    },
    {
      "cell_type": "code",
      "metadata": {
        "id": "nOMj8_bi0njx"
      },
      "source": [
        "# Método count()\n",
        "\n",
        "# Informa quantas vezes um caractere (ou uma sequência de caracteres) aparece na string.\n",
        "# Distingue entre maiúsculas e minúsculas\n",
        "\n",
        "titulo = 'Programação em Python'\n",
        "\n",
        "print(titulo.count('a')) # Conte quantos caracteres 'a' eu tenho nessa string"
      ],
      "execution_count": null,
      "outputs": []
    },
    {
      "cell_type": "code",
      "metadata": {
        "id": "qWQFjtPo1gLG"
      },
      "source": [
        "# Método startswith()\n",
        "\n",
        "# Verifica se uma string inicia com uma determinada sequência ou letra\n",
        "\n",
        "titulo = 'Python'\n",
        "\n",
        "print(titulo.startswith('Py')) # O retorno será True ou False"
      ],
      "execution_count": null,
      "outputs": []
    },
    {
      "cell_type": "code",
      "metadata": {
        "id": "qffnbR-P3UE1"
      },
      "source": [
        "# Método endswith()​\n",
        "\n",
        "# Verifica se uma string termina com uma determinada sequência ou letra.\n",
        "\n",
        "titulo = 'Python'\n",
        "\n",
        "print(titulo.endswith('Py')) # O retorno será True ou False"
      ],
      "execution_count": null,
      "outputs": []
    },
    {
      "cell_type": "code",
      "metadata": {
        "id": "0EFSChZN3gOw"
      },
      "source": [
        "# Método isalnum()​\n",
        "\n",
        "# Verifica se a string possui algum conteúdo alfanumérico (letra ou número).\n",
        "\n",
        "simbolos = '!@#$%&'\n",
        "\n",
        "print(simbolos.isalnum()) # O retorno será True ou False"
      ],
      "execution_count": null,
      "outputs": []
    },
    {
      "cell_type": "code",
      "metadata": {
        "id": "q_0w_UaT4Je2"
      },
      "source": [
        "# Método isalpha()​\n",
        "\n",
        "# Verifica se a string possui apenas conteúdo alfabético (letras).\n",
        "\n",
        "titulo = 'Python'\n",
        "\n",
        "print(titulo.isalpha()) # O retorno será True ou False"
      ],
      "execution_count": null,
      "outputs": []
    },
    {
      "cell_type": "code",
      "metadata": {
        "id": "wH6jZHmm4gEH"
      },
      "source": [
        "# Método islower()\n",
        "\n",
        "# Verifica se todas as letras de uma string são minúsculas​.\n",
        "\n",
        "titulo = 'Python'\n",
        "\n",
        "print(titulo.islower()) # O retorno será True ou False"
      ],
      "execution_count": null,
      "outputs": []
    },
    {
      "cell_type": "code",
      "metadata": {
        "id": "TmQ3-Smj4q4Q"
      },
      "source": [
        "# Método isupper()​\n",
        "\n",
        "# Verifica se todas as letras de uma string são maiúsculas. \n",
        "\n",
        "titulo = 'PYTHON'\n",
        "\n",
        "print(titulo.isupper()) # O retorno será True ou False"
      ],
      "execution_count": null,
      "outputs": []
    },
    {
      "cell_type": "code",
      "metadata": {
        "id": "fl6Ybw0D42yi"
      },
      "source": [
        "# Método lower()​\n",
        "\n",
        "# Retorna uma cópia da string trocando todas as letras para minúsculo.\n",
        "\n",
        "titulo = 'PYTHON'\n",
        "\n",
        "print(titulo.lower())"
      ],
      "execution_count": null,
      "outputs": []
    },
    {
      "cell_type": "code",
      "metadata": {
        "id": "hYAme2ft5Dto"
      },
      "source": [
        "# Método upper()​\n",
        "\n",
        "# Retorna uma cópia da string trocando todas as letras para maiúsculo.\n",
        "\n",
        "titulo = 'python'\n",
        "\n",
        "print(titulo.upper())"
      ],
      "execution_count": null,
      "outputs": []
    },
    {
      "cell_type": "code",
      "metadata": {
        "id": "x_fUCiM75Ke7",
        "colab": {
          "base_uri": "https://localhost:8080/"
        },
        "outputId": "eb0e2ba8-0b84-488d-912e-80f997998af2"
      },
      "source": [
        "# Método swapcase()​\n",
        "\n",
        "# Inverte o conteúdo da string (Minúsculo / Maiúsculo).​\n",
        "\n",
        "titulo = 'Python'\n",
        "\n",
        "print(titulo.swapcase())"
      ],
      "execution_count": null,
      "outputs": [
        {
          "output_type": "stream",
          "text": [
            "pYTHON\n"
          ],
          "name": "stdout"
        }
      ]
    },
    {
      "cell_type": "code",
      "metadata": {
        "id": "jEIrPCF_5hCy"
      },
      "source": [
        "# Método title()​\n",
        "\n",
        "# Converte para maiúsculo todas as primeiras letras de cada palavra da string.\n",
        "\n",
        "titulo = 'Programação em python'\n",
        "\n",
        "print(titulo.title())"
      ],
      "execution_count": null,
      "outputs": []
    },
    {
      "cell_type": "code",
      "metadata": {
        "id": "42JhujV85tF2"
      },
      "source": [
        "# Método split()​\n",
        "\n",
        "# Transforma a string em uma lista, utilizando os espaços como referência. ​\n",
        "\n",
        "titulo = 'Programação em Python'\n",
        "\n",
        "print(titulo.split())"
      ],
      "execution_count": null,
      "outputs": []
    },
    {
      "cell_type": "code",
      "metadata": {
        "id": "hSEtRsWl6lyq"
      },
      "source": [
        "# Método replace(S1, S2)\n",
        "\n",
        "# Substitui na String o techo de S1 pelo trecho S2\n",
        "\n",
        "titulo = 'Programação em Java'\n",
        "\n",
        "print(titulo.replace('Java', 'Python'))"
      ],
      "execution_count": null,
      "outputs": []
    },
    {
      "cell_type": "code",
      "metadata": {
        "id": "fGp-6dkD8jsK"
      },
      "source": [
        "# Método find()​\n",
        "\n",
        "# Retorna o índice (posição) da primeira ocorrência de um determinado caractere na string.\n",
        "# Se o caractere não estiver na string retorna -1.\n",
        "\n",
        "titulo = 'Programação em Python'\n",
        "\n",
        "print(titulo.find('j'))\n",
        "\n",
        "print(titulo.find('o'))"
      ],
      "execution_count": null,
      "outputs": []
    },
    {
      "cell_type": "code",
      "metadata": {
        "id": "X-OWpTt99ThE"
      },
      "source": [
        "# Método ljust()​\n",
        "\n",
        "# Ajusta a string para um tamanho mínimo, acrescentando espaços à direita se necessário.​\n",
        "\n",
        "titulo = 'Python'\n",
        "\n",
        "print(f'*{titulo.ljust(15)}*') # 15 é o número de espaço que eu quero que o titulo ocupe."
      ],
      "execution_count": null,
      "outputs": []
    },
    {
      "cell_type": "code",
      "metadata": {
        "id": "-dXk0a8Z97VS"
      },
      "source": [
        "# Método center()​\n",
        "\n",
        "# Ajusta a string para um tamanho mínimo, acrescentando espaços à esquerda e à direita, se necessário.\n",
        "\n",
        "titulo = 'Python'\n",
        "\n",
        "print(f'*{titulo.center(20)}*') # 20 é o número de espaço que eu quero que o titulo ocupe."
      ],
      "execution_count": null,
      "outputs": []
    },
    {
      "cell_type": "code",
      "metadata": {
        "id": "m-XSumSj-Wlv"
      },
      "source": [
        "# Método rjust()​\n",
        "\n",
        "# Ajusta a string para um tamanho mínimo, acrescentando espaços à esquerda se necessário.​\n",
        "\n",
        "titulo = 'Python'\n",
        "\n",
        "print(f'*{titulo.rjust(30)}*') # 30 é o número de espaço que eu quero que o titulo ocupe."
      ],
      "execution_count": null,
      "outputs": []
    },
    {
      "cell_type": "code",
      "metadata": {
        "id": "RnzlTp2k-hnE"
      },
      "source": [
        "# Método strip()​\n",
        "\n",
        "# Remove todos os espaços em branco da string.\n",
        "\n",
        "titulo = '   Python   '\n",
        "\n",
        "print(f'*{titulo.strip()}*')"
      ],
      "execution_count": null,
      "outputs": []
    },
    {
      "cell_type": "markdown",
      "metadata": {
        "id": "khy9z-jP_qV_"
      },
      "source": [
        "## **Fatiamento de Strings**"
      ]
    },
    {
      "cell_type": "code",
      "metadata": {
        "id": "M66bDqUC_pdF"
      },
      "source": [
        "# Serve para retornar apenas uma parte da String\n",
        "\n",
        "# Uma String é uma lista de caracteres, essa lista começa em 0 sempre:\n",
        "\n",
        "  # 'Python'\n",
        "  #  012345\n",
        "    # Posição 0 = P\n",
        "    # Posição 1 = y\n",
        "    # Posição 2 = t\n",
        "    # Posição 3 = h\n",
        "    # Posição 4 = o\n",
        "    # Posição 5 = n\n",
        "\n",
        "# IMPORTANTE: Os espaços são caracteres também!\n",
        "\n",
        "titulo = 'Programação com Python'\n",
        "\n",
        "print(titulo[0]) # Retorna o primeiro caractere\n",
        "\n",
        "print(titulo[-1]) # Retorna o último caractere\n",
        "\n",
        "print(titulo[2:15]) # Retorna os caracteres da posição 2 até a posição 14 (desconsidera a posição 15)\n",
        "\n",
        "print(titulo[:15]) # Retorna os caracteres da posição 0 até a posição 14 (desconsidera a posição 15)\n",
        "\n",
        "print(titulo[6:]) # Retorna os caracteres da posição 6 até a última posição\n",
        "\n",
        "print(titulo[2:15:2]) # Retorna os caracteres da posição 2 até a posição 14 pulando de 2 em 2"
      ],
      "execution_count": null,
      "outputs": []
    },
    {
      "cell_type": "markdown",
      "metadata": {
        "id": "6LoX6mhVUy5S"
      },
      "source": [
        "## Exercícios"
      ]
    },
    {
      "cell_type": "markdown",
      "metadata": {
        "id": "v80-OPw1U49a"
      },
      "source": [
        "01 - Considere a string A = \"Os limites só existem se você os deixar existir.(goku)\".\n",
        "\n",
        "Que fatia corresponde a (goku)?"
      ]
    },
    {
      "cell_type": "code",
      "metadata": {
        "id": "UfnbZcndBkYW"
      },
      "source": [
        ""
      ],
      "execution_count": null,
      "outputs": []
    },
    {
      "cell_type": "markdown",
      "metadata": {
        "id": "ySMoS96mVIHS"
      },
      "source": [
        "02 - Escreva um programa que solicite uma frase ao usuário e escreva a frase toda em maiúscula e sem espaços em branco."
      ]
    },
    {
      "cell_type": "code",
      "metadata": {
        "id": "1vZR72SUBk_F"
      },
      "source": [
        ""
      ],
      "execution_count": null,
      "outputs": []
    },
    {
      "cell_type": "markdown",
      "metadata": {
        "id": "BoeKDNIkVZwq"
      },
      "source": [
        "03 - Elabore um programa que recebe o seu nome, endereço e hobby e mostra cada uma das informações da seguinte forma:\n",
        "- Nome -> Letra maiúscula\n",
        "- Endereço -> Letra minúscula\n",
        "- Hobby -> Primeira letra maiúscula\n",
        "\n",
        "**Exemplo Entrada:**\n",
        "```\n",
        "Nome: bruno fabri\n",
        "Endereço: Rua ABC\n",
        "Hobby: jogar cs\n",
        "```\n",
        "\n",
        "**Exemplo Saída:**\n",
        "```\n",
        "Nome: BRUNO FABRI\n",
        "Endereço: rua abc\n",
        "Hobby: Jogar cs\n",
        "```"
      ]
    },
    {
      "cell_type": "code",
      "metadata": {
        "id": "tHq6GTQtBxQD"
      },
      "source": [
        ""
      ],
      "execution_count": null,
      "outputs": []
    },
    {
      "cell_type": "markdown",
      "metadata": {
        "id": "B7Evl6bhFffw"
      },
      "source": [
        "# **Estruturas de controle condicionais**\n",
        "\n",
        "> São estruturas para controlar o fluxo do programa\n",
        "\n",
        "Vamos utilizar os famosos SE e SENÃO.\n",
        "\n",
        "Em Python a estrutura é bem simples, comparado a outras linguagens, mas antes considere esse fluxograma:\n",
        "\n",
        "![untitled.png](data:image/png;base64,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)\n",
        "\n",
        "**Vamos transcrever ele em Python**"
      ]
    },
    {
      "cell_type": "code",
      "metadata": {
        "id": "oQzLP8HPDJCi",
        "outputId": "a9c97435-8589-4c67-9f49-312b990bfce5",
        "colab": {
          "base_uri": "https://localhost:8080/"
        }
      },
      "source": [
        "nota1 = float(input('Digite a nota 1: ').strip().replace(',','.'))\n",
        "nota2 = float(input('Digite a nota 2: ').strip().replace(',','.'))\n",
        "media = (nota1+nota2)/2\n",
        "if media >= 6:\n",
        "  print('Aluno aprovado')\n",
        "else:\n",
        "  print('Aluno reprovado')\n",
        "print('FIM')"
      ],
      "execution_count": 2,
      "outputs": [
        {
          "output_type": "stream",
          "text": [
            "Digite a nota 1: 4\n",
            "Digite a nota 2: 9\n",
            "Aluno aprovado\n"
          ],
          "name": "stdout"
        }
      ]
    },
    {
      "cell_type": "markdown",
      "metadata": {
        "id": "YJ7H6HDafMBV"
      },
      "source": [
        "# **Exercícios**"
      ]
    },
    {
      "cell_type": "markdown",
      "metadata": {
        "id": "Ja2mJ7l1fT6j"
      },
      "source": [
        "## Exercício 01\n",
        "\n",
        "Faça um programa que pergunte ao usuário um número e valide se o numero é par ou impar:\n",
        "\n",
        "* Crie uma variável para receber o valor, com conversão para int\n",
        "* Para um número ser par, a divisão dele por 2 tem que dar resto 0"
      ]
    },
    {
      "cell_type": "code",
      "metadata": {
        "id": "vcmeDhXIB1z-"
      },
      "source": [
        "num = int(input('Digite um numero: '))\n",
        "\n",
        "if num%2 ==0:\n",
        "  print(f'O numero {num} é PAR')\n",
        "else:\n",
        "  print(f'O numero {num} é IMPAR')"
      ],
      "execution_count": null,
      "outputs": []
    },
    {
      "cell_type": "markdown",
      "metadata": {
        "id": "Jpj1TkTHkztQ"
      },
      "source": [
        "## Exercício 02\n",
        "\n",
        "> Parte 1\n",
        "\n",
        "Faça um script que peça um valor e mostre na tela se o valor é positivo ou negativo.\n",
        "\n",
        "> Parte 2\n",
        "\n",
        "Agora implemente a funcionalidade de não aceitar o número 0, no input."
      ]
    },
    {
      "cell_type": "code",
      "metadata": {
        "id": "8zJw87hSB85u"
      },
      "source": [
        "while True:\n",
        "  num = int(input('Digite um numero diferente de 0: '))\n",
        "  if num != 0:\n",
        "    break\n",
        "  print('O numero digitado é invalido tente novamente')\n",
        "if num < 0:\n",
        "  print('O numero é \\033[1;31mNEGATIVO\\033[m')\n",
        "else:\n",
        "  print('O numero é \\033[1;32mPOSITIVO\\033[m')"
      ],
      "execution_count": null,
      "outputs": []
    },
    {
      "cell_type": "markdown",
      "metadata": {
        "id": "vlBF3NMEnLuJ"
      },
      "source": [
        "# **IF aninhado**\n",
        "\n",
        "Nesse último exercício a gente precisou utilizar dois if e else para resolver nosso problema, isso se chama If aninhado, vamos continuar treinando esse tipo de if com os exercícios abaixo:"
      ]
    },
    {
      "cell_type": "markdown",
      "metadata": {
        "id": "2OkrVmqfojib"
      },
      "source": [
        "# **Exercícios**"
      ]
    },
    {
      "cell_type": "markdown",
      "metadata": {
        "id": "C38oYzWPomu0"
      },
      "source": [
        "## Exercício 03\n",
        "\n",
        "Faça um programa que peça dois números, imprima o maior deles ou imprima \"Numeros iguais\" se os números forem iguais."
      ]
    },
    {
      "cell_type": "code",
      "metadata": {
        "id": "7J820rcuCJ0N"
      },
      "source": [
        "num1 = int(input('Digite um numero: '))\n",
        "num2 = int(input('Digite outro numero: '))\n",
        "if num1 > num2:\n",
        "  print(f'O numero {num1} é maior que {num2}')\n",
        "elif num1 < num2:\n",
        "  print(f'O numero {num2} é maior que {num1}')\n",
        "else:\n",
        "  print(f'Os numeros {num1} são iguais.')"
      ],
      "execution_count": null,
      "outputs": []
    },
    {
      "cell_type": "markdown",
      "metadata": {
        "id": "ZOZJdv18pfqF"
      },
      "source": [
        "## Exercício 04\n",
        "\n",
        "Crie um programa que verifique se uma letra digitada é \"F\" ou \"M\". Conforme a letra escrever: F - Feminino, M - Masculino, caso escreva outra letra: Sexo Inválido.\n"
      ]
    },
    {
      "cell_type": "code",
      "metadata": {
        "id": "n4i_SQbUCNIr"
      },
      "source": [
        "letra = str(input('Digite:\\nF - Feminino\\nM - Masculino\\n-> ')).strip().upper()\n",
        "\n",
        "if letra[0] == 'F':\n",
        "  print('Sexo Feminino')\n",
        "elif letra[0] == 'M':\n",
        "  print('Sexo Masculino')\n",
        "else:\n",
        "  print('Sexo Inválido')"
      ],
      "execution_count": null,
      "outputs": []
    },
    {
      "cell_type": "markdown",
      "metadata": {
        "id": "VxzjrYIdrMZE"
      },
      "source": [
        "# **ELIF**\n",
        "\n",
        "> O If serve para verificar uma condição e o elif serve para verificar outra condição caso a condição do If seja falsa. No código não há muita diferença, o elif vai garantir que aquela condição seja verificada caso o If seja falso, diferente dos dois If que são 'fluxos' independentes.\n",
        "\n",
        "Vamos refazer o exemplo da média adicionando a condição de \"Aluno em recuperação\""
      ]
    },
    {
      "cell_type": "code",
      "metadata": {
        "id": "Co5W_PZaCQJT"
      },
      "source": [
        "nota1 = float(input('Digite a nota 1: ').strip().replace(',','.'))\n",
        "nota2 = float(input('Digite a nota 2: ').strip().replace(',','.'))\n",
        "media = (nota1+nota2)/2\n",
        "if media >= 6:\n",
        "  print('Aluno aprovado')\n",
        "elif media >=4:\n",
        "  print('Aluno em recuperação')\n",
        "else:\n",
        "  print('Aluno reprovado')\n",
        "print('FIM')"
      ],
      "execution_count": null,
      "outputs": []
    },
    {
      "cell_type": "markdown",
      "metadata": {
        "id": "r1g-QkQhsojP"
      },
      "source": [
        "# **Exercícios**"
      ]
    },
    {
      "cell_type": "markdown",
      "metadata": {
        "id": "wUT28MVkstbn"
      },
      "source": [
        "## Exercício 05\n",
        "\n",
        "Crie um programa em Python que peça a nota do aluno, que deve ser um float entre 0.00 e 10.0\n",
        "\n",
        "* Se a nota for menor que 6.0, deve exibir a nota F.\n",
        "\n",
        "* Se a nota for de 6.0 até 7.0, deve exibir a nota D.\n",
        "\n",
        "* Se a nota for entre 7.0 e 8.0, deve exibir a nota C.\n",
        "\n",
        "* Se a nota for entre 8.0 e 9.0, deve exibir a nota B.\n",
        "\n",
        "* Por fim, se for entre 9.0 e 10.0, deve exibir um belo de um A."
      ]
    },
    {
      "cell_type": "code",
      "metadata": {
        "id": "C5Xp0ErLCbZP"
      },
      "source": [
        "nota = float(input('Digite a nota do aluno: ').strip().replace(',','.'))\n",
        "if nota < 6:\n",
        "  print('F')\n",
        "elif 6 <= nota <= 7:\n",
        "  print('D')\n",
        "elif 7 <= nota <= 8:\n",
        "  print('C')\n",
        "elif 8 <= nota <= 9:\n",
        "  print('B')\n",
        "else:\n",
        "  print('A')"
      ],
      "execution_count": null,
      "outputs": []
    },
    {
      "cell_type": "markdown",
      "metadata": {
        "id": "xep4W_T-s-Ra"
      },
      "source": [
        "# *Mini Projetos*"
      ]
    },
    {
      "cell_type": "markdown",
      "metadata": {
        "id": "4YbMlSEZG7UM"
      },
      "source": [
        "## **PROJETO 01**\n",
        "\n",
        "*   Escreva um programa que receba uma string digitada pelo usuário;\n",
        "*   Caso a string seja \"medieval\", exiba no console \"espada\";\n",
        "*   Caso contrário, se a string for \"futurista\", exiba no console \"sabre de luz\";\n",
        "*   Caso contrário, exiba no console \"Tente novamente\""
      ]
    },
    {
      "cell_type": "code",
      "metadata": {
        "id": "pHaCHsXECeiU",
        "outputId": "745c68f3-f024-4eee-bf35-59d1a1fd714d",
        "colab": {
          "base_uri": "https://localhost:8080/"
        }
      },
      "source": [
        "while True:\n",
        "  texto = str(input('Digite:\\nMedieval ou Futurista\\n-> ').lower().strip())\n",
        "  if texto in ('medieval','futurista'):\n",
        "    break\n",
        "  print('Tente novamente')\n",
        "\n",
        "if texto == 'medieval':\n",
        "  print('Espada')\n",
        "elif textp == 'futurista':\n",
        "  print('Sabre de Luz')"
      ],
      "execution_count": 25,
      "outputs": [
        {
          "output_type": "stream",
          "text": [
            "Digite:\n",
            "Medieval ou Futurista\n",
            "-> nao sei\n",
            "Tente novamente\n",
            "Digite:\n",
            "Medieval ou Futurista\n",
            "->         MedIeVaL\n",
            "Espada\n"
          ],
          "name": "stdout"
        }
      ]
    },
    {
      "cell_type": "markdown",
      "metadata": {
        "id": "zUGk1OiNHDik"
      },
      "source": [
        "## **PROJETO 02**\n",
        "\n",
        "* Escreva um programa que receba um ataque de espada ou sabre digitada pelo usuário;\n",
        "\n",
        "* Caso o ataque seja \"espada\", exiba no console \"VOCÊ AINDA NÃO MATOU O CHEFÃO\";\n",
        "\n",
        "* Caso contrário, se o ataque for \"sabre\", exiba no console \"VOCÊ DERROTOU O CHEFÃO COM O SABRE DE LUZ\";\n",
        "\n",
        "* Caso contrário, exiba no console \"ATAQUE NOVAMENTE\""
      ]
    },
    {
      "cell_type": "code",
      "metadata": {
        "id": "nvUgGcwhCgB8"
      },
      "source": [
        "while True:\n",
        "  ataque = str(input('Digite: Sabre ou Espada - > ').strip().lower())\n",
        "  if ataque in ('sabre','espada'):\n",
        "    break\n",
        "  print('ATAQUE NOVAMENTE')\n",
        "\n",
        "if ataque == 'espada':\n",
        "  print('VOCÊ AINDA NÃO MATOU O CHEFÃO')\n",
        "elif ataque == 'sabre':\n",
        "  print('VOCÊ DERROTOU O CHEFÃO COM O SABRE DE LUZ')"
      ],
      "execution_count": null,
      "outputs": []
    }
  ]
}